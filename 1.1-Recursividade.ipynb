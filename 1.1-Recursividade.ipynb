{
 "cells": [
  {
   "cell_type": "markdown",
   "id": "c87bc264",
   "metadata": {},
   "source": [
    "> Projeto Desenvolve <br>\n",
    "Programação Intermediária com Python <br>\n",
    "Profa. Camila Laranjeira (mila@projetodesenvolve.com.br) <br>\n",
    "\n",
    "# 1.1 - Recursividade"
   ]
  },
  {
   "cell_type": "markdown",
   "id": "02e47197",
   "metadata": {},
   "source": [
    "## Exercícios:\n",
    "\n",
    "#### **Q1**. \n",
    "Faça um procedimento recursivo que receba dois valores inteiros `a` e `b` e imprime o intervalo fechado entre eles. Se `a > b` imprima uma mensagem de erro.\n",
    "\n",
    "| Entrada |  Saída |\n",
    "| ------- | ------ |\n",
    "| 1 10    | 1 2 3 4 5 6 7 8 9 10 |\n",
    "| -5 1    | -5 -4 -3 -2 -1 |\n",
    "| 5 -5    | Valores invalidos |\n",
    "| 17 20   | 17 18 19 20 |"
   ]
  },
  {
   "cell_type": "code",
   "execution_count": 54,
   "id": "e89a9966",
   "metadata": {},
   "outputs": [
    {
     "name": "stdout",
     "output_type": "stream",
     "text": [
      "1 2 3 4 5 6 7 8 9 10 \n",
      "-5 -4 -3 -2 -1 0 1 \n",
      "Valores inválidos\n",
      "\n",
      "17 18 19 20 "
     ]
    }
   ],
   "source": [
    "def intervalo(a, b):\n",
    "    if a > b:\n",
    "        print(\"Valores inválidos\")\n",
    "    else:\n",
    "        print(a, end=\" \")\n",
    "        if a < b:\n",
    "            intervalo(a + 1, b)\n",
    "\n",
    "# Testes\n",
    "intervalo(1, 10)   # 1 2 3 4 5 6 7 8 9 10\n",
    "print()\n",
    "intervalo(-5, 1)   # -5 -4 -3 -2 -1 0 1\n",
    "print()\n",
    "intervalo(5, -5)   # Valores inválidos\n",
    "print()\n",
    "intervalo(17, 20)  # 17 18 19 20\n"
   ]
  },
  {
   "cell_type": "markdown",
   "id": "b48196ed",
   "metadata": {},
   "source": [
    "---\n",
    "\n",
    "\n",
    "#### **Q2**. \n",
    "Mudando **apenas uma linha**, altere o código anterior para imprimir o intervalo invertido.\n",
    "\n",
    "| Entrada |  Saída |\n",
    "| ------- | ------ |\n",
    "| 1 10    | 10 9 8 7 6 5 4 3 2 1 |\n",
    "| -5 1    | -1 -2 -3 -4 -5 |\n",
    "| 5 -5    | Valores invalidos |\n",
    "| 17 20   | 20 19 18 17 |"
   ]
  },
  {
   "cell_type": "code",
   "execution_count": 55,
   "id": "4d0c21b4",
   "metadata": {},
   "outputs": [
    {
     "name": "stdout",
     "output_type": "stream",
     "text": [
      "10 9 8 7 6 5 4 3 2 1 \n",
      "1 0 -1 -2 -3 -4 -5 \n",
      "Valores inválidos\n",
      "\n",
      "20 19 18 17 "
     ]
    }
   ],
   "source": [
    "def intervalo_invertido(a, b):\n",
    "    if a > b:\n",
    "        print(\"Valores inválidos\")\n",
    "    else:\n",
    "        if a < b:\n",
    "            intervalo_invertido(a + 1, b)\n",
    "        print(a, end=\" \")\n",
    "\n",
    "# Testes\n",
    "intervalo_invertido(1, 10)   # 10 9 8 7 6 5 4 3 2 1\n",
    "print()\n",
    "intervalo_invertido(-5, 1)   # 1 0 -1 -2 -3 -4 -5\n",
    "print()\n",
    "intervalo_invertido(5, -5)   # Valores inválidos\n",
    "print()\n",
    "intervalo_invertido(17, 20)  # 20 19 18 17\n"
   ]
  },
  {
   "cell_type": "markdown",
   "id": "be727074",
   "metadata": {},
   "source": [
    "\n",
    "\n",
    "---\n",
    "\n",
    "\n",
    "#### **Q3**. \n",
    "Escreva uma função recursiva que recebe um inteiro `n > 1` e calcula a soma dos valores entre `n` e `1`.\n",
    "\n",
    "| Entrada |  Saída |\n",
    "| ------- | ------ |\n",
    "| 5   | 15 |\n",
    "| 13  | 78 |"
   ]
  },
  {
   "cell_type": "code",
   "execution_count": 89,
   "id": "c4da98b8",
   "metadata": {},
   "outputs": [
    {
     "name": "stdout",
     "output_type": "stream",
     "text": [
      "15\n",
      "91\n"
     ]
    }
   ],
   "source": [
    "def soma(n):\n",
    "    if n == 1:   # Caso base correto\n",
    "        return 1\n",
    "    return n + soma(n - 1)\n",
    "\n",
    "# Testes\n",
    "print(soma(5))   # 15\n",
    "print(soma(13))  # 78\n"
   ]
  },
  {
   "cell_type": "markdown",
   "id": "4142b276",
   "metadata": {},
   "source": [
    "\n",
    "\n",
    "---\n",
    "\n",
    "\n",
    "#### **Q4**.  \n",
    "\n",
    "Escreva uma função recursiva que recebe um inteiro `n` e verifica se `n`é um valor primo, ou seja, se é divisível apenas por si mesmo e por `1`."
   ]
  },
  {
   "cell_type": "code",
   "execution_count": 90,
   "id": "4c96eb2d",
   "metadata": {},
   "outputs": [
    {
     "name": "stdout",
     "output_type": "stream",
     "text": [
      "True\n",
      "False\n",
      "True\n"
     ]
    }
   ],
   "source": [
    "def eh_primo(n, d=None):\n",
    "    if n < 2:\n",
    "        return False\n",
    "    if d is None:\n",
    "        d = n - 1\n",
    "    if d == 1:\n",
    "        return True\n",
    "    if n % d == 0:\n",
    "        return False\n",
    "    return eh_primo(n, d - 1)\n",
    "\n",
    "# Testes\n",
    "print(eh_primo(7))   # True\n",
    "print(eh_primo(15))  # False\n",
    "print(eh_primo(2))   # True\n"
   ]
  },
  {
   "cell_type": "markdown",
   "id": "2a0ae81c",
   "metadata": {},
   "source": [
    "\n",
    "\n",
    "---\n",
    "\n",
    "\n",
    "#### **Q5**. \n",
    "Implemente uma função recursiva que recebe um número inteiro decimal e retorna sua representação binária como uma string. Para realizar essa conversão, utilize o método de divisão sucessiva, onde você divide o número decimal por 2 e coleta os restos até que o quociente seja zero. A ordem dos restos coletados, de baixo para cima, forma o número binário correspondente.\n",
    "\n",
    "**Exemplo de Conversão:**\n",
    "\n",
    "Para converter o número decimal 13 para binário:\n",
    "```\n",
    "13 ÷ 2 = 6, resto 1\n",
    "6 ÷ 2 = 3, resto 0\n",
    "3 ÷ 2 = 1, resto 1\n",
    "1 ÷ 2 = 0, resto 1\n",
    "```\n",
    "Lendo os restos de baixo para cima, obtemos o número binário `1101`."
   ]
  },
  {
   "cell_type": "code",
   "execution_count": 91,
   "id": "a7d954f0",
   "metadata": {},
   "outputs": [
    {
     "name": "stdout",
     "output_type": "stream",
     "text": [
      "1101\n",
      "11001\n"
     ]
    }
   ],
   "source": [
    "def decimal_para_binario(n):\n",
    "    if n == 0:\n",
    "        return \"\"\n",
    "    else:\n",
    "        return decimal_para_binario(n // 2) + str(n % 2)\n",
    "\n",
    "# Testes\n",
    "print(decimal_para_binario(13))  # 1101\n",
    "print(decimal_para_binario(25))  # 11001\n"
   ]
  },
  {
   "cell_type": "markdown",
   "id": "0f500709",
   "metadata": {},
   "source": [
    "\n",
    "\n",
    "---\n",
    "\n",
    "\n",
    "#### **Extra**: \n",
    "\n",
    "Implemente uma função recursiva em Python que realiza a travessia em pré-ordem de uma árvore binária representada por listas aninhadas. Na travessia em pré-ordem (ou pré-fixada), o nó raiz é visitado primeiro, seguido pela subárvore esquerda e, por fim, pela subárvore direita. A questão fixa as constantes `RAIZ_IDX, ESQ_IDX, DIR_IDX` representando os índices da lista onde se encontra o valor raíz, o nó a esquerda e o nó a direita.\n",
    "\n",
    "```\n",
    "# Representação visual da árvore\n",
    "       4\n",
    "      / \\\n",
    "     2   5\n",
    "    / \\\n",
    "   1   3\n",
    "```"
   ]
  },
  {
   "cell_type": "code",
   "execution_count": 94,
   "id": "10df4831",
   "metadata": {},
   "outputs": [
    {
     "name": "stdout",
     "output_type": "stream",
     "text": [
      "4 2 1 3 5 "
     ]
    }
   ],
   "source": [
    "RAIZ_IDX, ESQ_IDX, DIR_IDX = 0, 1, 2\n",
    "\n",
    "arvore = [\n",
    "    4,              # raíz, nível 0\n",
    "    [               # ramo da esquerda, nível 1\n",
    "        2,          # valor filho esquerda\n",
    "        [1, None, None],   # ramo da esquerda, nível 2\n",
    "        [3, None, None]    # ramo da direita, nível 2\n",
    "    ],\n",
    "    [               # ramo da direita, nível 1\n",
    "        5,          # valor filho da direita\n",
    "        None,              # ramo da esquerda, nível 2\n",
    "        None               # ramo da direita, nível 2\n",
    "    ]\n",
    "]\n",
    "\n",
    "## Travessia pré-ordem em árvore binária representada por listas aninhadas.\n",
    "\n",
    "RAIZ_IDX, ESQ_IDX, DIR_IDX = 0, 1, 2\n",
    "\n",
    "arvore = [\n",
    "    4,\n",
    "    [  # ramo da esquerda\n",
    "        2,\n",
    "        [1, None, None],\n",
    "        [3, None, None]\n",
    "    ],\n",
    "    [  # ramo da direita\n",
    "        5,\n",
    "        None,\n",
    "        None\n",
    "    ]\n",
    "]\n",
    "\n",
    "def pre_ordem(arv):\n",
    "    if arv is None:\n",
    "        return\n",
    "    print(arv[RAIZ_IDX], end=\" \")\n",
    "    pre_ordem(arv[ESQ_IDX])\n",
    "    pre_ordem(arv[DIR_IDX])\n",
    "\n",
    "# Teste\n",
    "pre_ordem(arvore)  # 4 2 1 3 5\n"
   ]
  }
 ],
 "metadata": {
  "kernelspec": {
   "display_name": "Python 3",
   "language": "python",
   "name": "python3"
  },
  "language_info": {
   "codemirror_mode": {
    "name": "ipython",
    "version": 3
   },
   "file_extension": ".py",
   "mimetype": "text/x-python",
   "name": "python",
   "nbconvert_exporter": "python",
   "pygments_lexer": "ipython3",
   "version": "3.11.9"
  }
 },
 "nbformat": 4,
 "nbformat_minor": 5
}
